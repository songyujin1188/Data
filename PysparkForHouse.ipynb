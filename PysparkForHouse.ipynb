{
  "nbformat": 4,
  "nbformat_minor": 0,
  "metadata": {
    "colab": {
      "name": "PysparkForHouse.ipynb",
      "provenance": []
    },
    "kernelspec": {
      "name": "python3",
      "display_name": "Python 3"
    },
    "language_info": {
      "name": "python"
    }
  },
  "cells": [
    {
      "cell_type": "code",
      "execution_count": null,
      "metadata": {
        "colab": {
          "base_uri": "https://localhost:8080/"
        },
        "id": "_r_P3kdjj7pN",
        "outputId": "52f7a7d7-18b6-4f3f-d4bf-333a31e94fe9"
      },
      "outputs": [
        {
          "output_type": "stream",
          "name": "stdout",
          "text": [
            "Mounted at /content/drive\n"
          ]
        }
      ],
      "source": [
        "from google.colab import drive\n",
        "drive.mount(\"/content/drive\")"
      ]
    },
    {
      "cell_type": "code",
      "source": [
        "!apt-get install openjdk-8-jdk-headless -qq > /dev/null\n",
        "!wget -q https://dlcdn.apache.org/spark/spark-3.2.1/spark-3.2.1-bin-hadoop3.2.tgz\n",
        "!tar xf spark-3.2.1-bin-hadoop3.2.tgz\n",
        "!pip install -q findspark\n",
        "import os\n",
        "os.environ[\"JAVA_HOME\"] = \"/usr/lib/jvm/java-8-openjdk-amd64\"\n",
        "os.environ[\"SPARK_HOME\"] = \"/content/spark-3.2.1-bin-hadoop3.2\"\n",
        "import findspark\n",
        "findspark.init()\n",
        "findspark.find()"
      ],
      "metadata": {
        "colab": {
          "base_uri": "https://localhost:8080/",
          "height": 35
        },
        "id": "0Ks-qI8BkKV7",
        "outputId": "2edc9dc9-7e8c-41f0-abaa-f6d9866ca2b7"
      },
      "execution_count": null,
      "outputs": [
        {
          "output_type": "execute_result",
          "data": {
            "text/plain": [
              "'/content/spark-3.2.1-bin-hadoop3.2'"
            ],
            "application/vnd.google.colaboratory.intrinsic+json": {
              "type": "string"
            }
          },
          "metadata": {},
          "execution_count": 2
        }
      ]
    },
    {
      "cell_type": "code",
      "source": [
        "from pyspark.sql import SparkSession\n",
        "\n",
        "spark = SparkSession.builder\\\n",
        "        .master(\"local\")\\\n",
        "        .appName(\"Colab\")\\\n",
        "        .config('spark.ui.port', '4050')\\\n",
        "        .getOrCreate()"
      ],
      "metadata": {
        "id": "W318zL3okbfc"
      },
      "execution_count": null,
      "outputs": []
    },
    {
      "cell_type": "code",
      "source": [
        "df = spark.read.csv(\"/content/drive/My Drive/house_full.csv\")\n",
        "df.printSchema()\n",
        "df.show(20,truncate = 100)\n",
        "df.count()\n",
        "from pyspark.sql import functions as F\n",
        "df.select([F.count(F.when(F.isnull(c), c)).alias(c) for c in df.columns]).show()"
      ],
      "metadata": {
        "colab": {
          "base_uri": "https://localhost:8080/"
        },
        "id": "fI00k3nJkd8z",
        "outputId": "c76bbedb-8422-4098-9536-ddb1238b40e1"
      },
      "execution_count": null,
      "outputs": [
        {
          "output_type": "stream",
          "name": "stdout",
          "text": [
            "root\n",
            " |-- _c0: string (nullable = true)\n",
            " |-- _c1: string (nullable = true)\n",
            " |-- _c2: string (nullable = true)\n",
            " |-- _c3: string (nullable = true)\n",
            " |-- _c4: string (nullable = true)\n",
            " |-- _c5: string (nullable = true)\n",
            "\n",
            "+----------------------------------+---------------------------------------------------------------+--------------------------------------------+------+-------+-----------+\n",
            "|                               _c0|                                                            _c1|                                         _c2|   _c3|    _c4|        _c5|\n",
            "+----------------------------------+---------------------------------------------------------------+--------------------------------------------+------+-------+-----------+\n",
            "|                             Title|                                                       Location|                                       Price|  Area|  Rooms|   Interior|\n",
            "| Apartment Nieuwezijds Voorburgwal|            1012 RT Amsterdam (Burgwallen-Nieuwe Zijde)        |                €5,000 per month            |180 m²|4 rooms|  Furnished|\n",
            "|     Apartment Frederiksplein 40 B|                  1017 XN Amsterdam (De Weteringschans)        |                €3,400 per month            |125 m²|3 rooms|Upholstered|\n",
            "|     Apartment George Gershwinlaan|                             1082 MT Amsterdam (Zuidas)        |                €3,000 per month            |126 m²|3 rooms|Upholstered|\n",
            "|       Apartment Ruyschstraat 31 A|                       1091 BS Amsterdam (Weesperzijde)        |                €3,450 per month            |150 m²|4 rooms|  Furnished|\n",
            "|        Apartment Bezaanjachtplein|                    1034 CR Amsterdam (Banne Buiksloot)        |                €1,500 per month            | 50 m²|2 rooms|  Furnished|\n",
            "|  Apartment August Allebéplein 171|                    1062 AB Amsterdam (Overtoomse Veld)        |                €1,450 per month            | 59 m²|3 rooms|Upholstered|\n",
            "|  Apartment August Allebéplein 187|                    1062 AB Amsterdam (Overtoomse Veld)        |                €1,425 per month            | 53 m²|3 rooms|Upholstered|\n",
            "|  Apartment August Allebéplein 165|                    1062 AB Amsterdam (Overtoomse Veld)        |                €1,450 per month            | 59 m²|3 rooms|Upholstered|\n",
            "|  Apartment August Allebéplein 111|                    1062 AB Amsterdam (Overtoomse Veld)        |                €1,450 per month            | 59 m²|3 rooms|Upholstered|\n",
            "|  Apartment August Allebéplein 119|                    1062 AB Amsterdam (Overtoomse Veld)        |                €1,420 per month            | 52 m²|3 rooms|Upholstered|\n",
            "|          Apartment Krommertstraat|                        1056 TS Amsterdam (Geuzenbuurt)        |                €1,350 per month            | 60 m²|2 rooms|Upholstered|\n",
            "|   Apartment Dirk Vreekenstraat 68|              1019 GD Amsterdam (Oostelijk Havengebied)        |                €1,700 per month            | 86 m²|4 rooms|       None|\n",
            "|        Apartment Van Brakelstraat|                        1057 XC Amsterdam (Chassébuurt)        |                €2,150 per month            | 72 m²|3 rooms|  Furnished|\n",
            "|          Apartment Schubertstraat|                        1077 GS Amsterdam (Apollobuurt)        |                €2,200 per month            | 69 m²|2 rooms|Upholstered|\n",
            "|     Apartment Alfred Döblinstraat|            1102 VM Amsterdam (Bijlmer Centrum (D,F,H))        |                €1,400 per month            | 60 m²|2 rooms|  Furnished|\n",
            "|  Apartment Egelantiersstraat 85 2|                            1015 PX Amsterdam (Jordaan)        |                €1,600 per month            | 40 m²|2 rooms|  Furnished|\n",
            "|        Apartment Argonautenstraat|                       1076 KV Amsterdam (Stadionbuurt)        |                €3,100 per month            |120 m²|4 rooms|Upholstered|\n",
            "|Apartment Eerste Van Swindenstraat|                        1093 GD Amsterdam (Dapperbuurt)        |                €1,950 per month            | 60 m²|3 rooms|  Furnished|\n",
            "|         Studio Pietersbergweg 207|               1105 BM Amsterdam (Amstel III/Bullewijk)        |                  €950 per month            | 39 m²| 1 room|Upholstered|\n",
            "+----------------------------------+---------------------------------------------------------------+--------------------------------------------+------+-------+-----------+\n",
            "only showing top 20 rows\n",
            "\n",
            "+---+---+---+---+---+---+\n",
            "|_c0|_c1|_c2|_c3|_c4|_c5|\n",
            "+---+---+---+---+---+---+\n",
            "|  0|  0|  0|  0|  0|  0|\n",
            "+---+---+---+---+---+---+\n",
            "\n"
          ]
        }
      ]
    },
    {
      "cell_type": "code",
      "source": [
        "from pyspark.sql.functions import col\n",
        "df=df.filter(col(\"_c0\")!=\"Title\")\n",
        "df.show(5, truncate =100)"
      ],
      "metadata": {
        "colab": {
          "base_uri": "https://localhost:8080/"
        },
        "id": "QVPt5KXzmFAf",
        "outputId": "7cf04fee-74af-45fa-d3d9-4b7145dfbbbc"
      },
      "execution_count": null,
      "outputs": [
        {
          "output_type": "stream",
          "name": "stdout",
          "text": [
            "+---------------------------------+---------------------------------------------------------------+--------------------------------------------+------+-------+-----------+\n",
            "|                              _c0|                                                            _c1|                                         _c2|   _c3|    _c4|        _c5|\n",
            "+---------------------------------+---------------------------------------------------------------+--------------------------------------------+------+-------+-----------+\n",
            "|Apartment Nieuwezijds Voorburgwal|            1012 RT Amsterdam (Burgwallen-Nieuwe Zijde)        |                €5,000 per month            |180 m²|4 rooms|  Furnished|\n",
            "|    Apartment Frederiksplein 40 B|                  1017 XN Amsterdam (De Weteringschans)        |                €3,400 per month            |125 m²|3 rooms|Upholstered|\n",
            "|    Apartment George Gershwinlaan|                             1082 MT Amsterdam (Zuidas)        |                €3,000 per month            |126 m²|3 rooms|Upholstered|\n",
            "|      Apartment Ruyschstraat 31 A|                       1091 BS Amsterdam (Weesperzijde)        |                €3,450 per month            |150 m²|4 rooms|  Furnished|\n",
            "|       Apartment Bezaanjachtplein|                    1034 CR Amsterdam (Banne Buiksloot)        |                €1,500 per month            | 50 m²|2 rooms|  Furnished|\n",
            "+---------------------------------+---------------------------------------------------------------+--------------------------------------------+------+-------+-----------+\n",
            "only showing top 5 rows\n",
            "\n"
          ]
        }
      ]
    },
    {
      "cell_type": "code",
      "source": [
        "colomns = ['Title','Location','Price','Area','Rooms','Description']\n",
        "df = df.toDF(*colomns)\n",
        "df.show(20, truncate = 100)"
      ],
      "metadata": {
        "colab": {
          "base_uri": "https://localhost:8080/"
        },
        "id": "m00kqEfKqViQ",
        "outputId": "4136e1ac-f269-4e1f-ba31-52ba44b9778a"
      },
      "execution_count": null,
      "outputs": [
        {
          "output_type": "stream",
          "name": "stdout",
          "text": [
            "+----------------------------------+---------------------------------------------------------------+--------------------------------------------+------+-------+-----------+\n",
            "|                             Title|                                                       Location|                                       Price|  Area|  Rooms|Description|\n",
            "+----------------------------------+---------------------------------------------------------------+--------------------------------------------+------+-------+-----------+\n",
            "| Apartment Nieuwezijds Voorburgwal|            1012 RT Amsterdam (Burgwallen-Nieuwe Zijde)        |                €5,000 per month            |180 m²|4 rooms|  Furnished|\n",
            "|     Apartment Frederiksplein 40 B|                  1017 XN Amsterdam (De Weteringschans)        |                €3,400 per month            |125 m²|3 rooms|Upholstered|\n",
            "|     Apartment George Gershwinlaan|                             1082 MT Amsterdam (Zuidas)        |                €3,000 per month            |126 m²|3 rooms|Upholstered|\n",
            "|       Apartment Ruyschstraat 31 A|                       1091 BS Amsterdam (Weesperzijde)        |                €3,450 per month            |150 m²|4 rooms|  Furnished|\n",
            "|        Apartment Bezaanjachtplein|                    1034 CR Amsterdam (Banne Buiksloot)        |                €1,500 per month            | 50 m²|2 rooms|  Furnished|\n",
            "|  Apartment August Allebéplein 171|                    1062 AB Amsterdam (Overtoomse Veld)        |                €1,450 per month            | 59 m²|3 rooms|Upholstered|\n",
            "|  Apartment August Allebéplein 187|                    1062 AB Amsterdam (Overtoomse Veld)        |                €1,425 per month            | 53 m²|3 rooms|Upholstered|\n",
            "|  Apartment August Allebéplein 165|                    1062 AB Amsterdam (Overtoomse Veld)        |                €1,450 per month            | 59 m²|3 rooms|Upholstered|\n",
            "|  Apartment August Allebéplein 111|                    1062 AB Amsterdam (Overtoomse Veld)        |                €1,450 per month            | 59 m²|3 rooms|Upholstered|\n",
            "|  Apartment August Allebéplein 119|                    1062 AB Amsterdam (Overtoomse Veld)        |                €1,420 per month            | 52 m²|3 rooms|Upholstered|\n",
            "|          Apartment Krommertstraat|                        1056 TS Amsterdam (Geuzenbuurt)        |                €1,350 per month            | 60 m²|2 rooms|Upholstered|\n",
            "|   Apartment Dirk Vreekenstraat 68|              1019 GD Amsterdam (Oostelijk Havengebied)        |                €1,700 per month            | 86 m²|4 rooms|       None|\n",
            "|        Apartment Van Brakelstraat|                        1057 XC Amsterdam (Chassébuurt)        |                €2,150 per month            | 72 m²|3 rooms|  Furnished|\n",
            "|          Apartment Schubertstraat|                        1077 GS Amsterdam (Apollobuurt)        |                €2,200 per month            | 69 m²|2 rooms|Upholstered|\n",
            "|     Apartment Alfred Döblinstraat|            1102 VM Amsterdam (Bijlmer Centrum (D,F,H))        |                €1,400 per month            | 60 m²|2 rooms|  Furnished|\n",
            "|  Apartment Egelantiersstraat 85 2|                            1015 PX Amsterdam (Jordaan)        |                €1,600 per month            | 40 m²|2 rooms|  Furnished|\n",
            "|        Apartment Argonautenstraat|                       1076 KV Amsterdam (Stadionbuurt)        |                €3,100 per month            |120 m²|4 rooms|Upholstered|\n",
            "|Apartment Eerste Van Swindenstraat|                        1093 GD Amsterdam (Dapperbuurt)        |                €1,950 per month            | 60 m²|3 rooms|  Furnished|\n",
            "|         Studio Pietersbergweg 207|               1105 BM Amsterdam (Amstel III/Bullewijk)        |                  €950 per month            | 39 m²| 1 room|Upholstered|\n",
            "|        Apartment Stadionkade 23 I|                        1077 VL Amsterdam (Apollobuurt)        |                €4,200 per month            |148 m²|4 rooms|  Furnished|\n",
            "+----------------------------------+---------------------------------------------------------------+--------------------------------------------+------+-------+-----------+\n",
            "only showing top 20 rows\n",
            "\n"
          ]
        }
      ]
    },
    {
      "cell_type": "code",
      "source": [
        "from pyspark.sql.functions import split\n",
        " \n",
        "df =df.withColumn(\"Title\", split(col(\"Title\"), \" \").getItem(0))\n",
        "\n",
        "df.show(20, truncate=100)"
      ],
      "metadata": {
        "colab": {
          "base_uri": "https://localhost:8080/"
        },
        "id": "ekb6lo9guGgm",
        "outputId": "6faa86b6-49ac-46d6-95ab-7feb3443f7f5"
      },
      "execution_count": null,
      "outputs": [
        {
          "output_type": "stream",
          "name": "stdout",
          "text": [
            "+---------+---------------------------------------------------------------+--------------------------------------------+------+-------+-----------+\n",
            "|    Title|                                                       Location|                                       Price|  Area|  Rooms|Description|\n",
            "+---------+---------------------------------------------------------------+--------------------------------------------+------+-------+-----------+\n",
            "|Apartment|            1012 RT Amsterdam (Burgwallen-Nieuwe Zijde)        |                €5,000 per month            |180 m²|4 rooms|  Furnished|\n",
            "|Apartment|                  1017 XN Amsterdam (De Weteringschans)        |                €3,400 per month            |125 m²|3 rooms|Upholstered|\n",
            "|Apartment|                             1082 MT Amsterdam (Zuidas)        |                €3,000 per month            |126 m²|3 rooms|Upholstered|\n",
            "|Apartment|                       1091 BS Amsterdam (Weesperzijde)        |                €3,450 per month            |150 m²|4 rooms|  Furnished|\n",
            "|Apartment|                    1034 CR Amsterdam (Banne Buiksloot)        |                €1,500 per month            | 50 m²|2 rooms|  Furnished|\n",
            "|Apartment|                    1062 AB Amsterdam (Overtoomse Veld)        |                €1,450 per month            | 59 m²|3 rooms|Upholstered|\n",
            "|Apartment|                    1062 AB Amsterdam (Overtoomse Veld)        |                €1,425 per month            | 53 m²|3 rooms|Upholstered|\n",
            "|Apartment|                    1062 AB Amsterdam (Overtoomse Veld)        |                €1,450 per month            | 59 m²|3 rooms|Upholstered|\n",
            "|Apartment|                    1062 AB Amsterdam (Overtoomse Veld)        |                €1,450 per month            | 59 m²|3 rooms|Upholstered|\n",
            "|Apartment|                    1062 AB Amsterdam (Overtoomse Veld)        |                €1,420 per month            | 52 m²|3 rooms|Upholstered|\n",
            "|Apartment|                        1056 TS Amsterdam (Geuzenbuurt)        |                €1,350 per month            | 60 m²|2 rooms|Upholstered|\n",
            "|Apartment|              1019 GD Amsterdam (Oostelijk Havengebied)        |                €1,700 per month            | 86 m²|4 rooms|       None|\n",
            "|Apartment|                        1057 XC Amsterdam (Chassébuurt)        |                €2,150 per month            | 72 m²|3 rooms|  Furnished|\n",
            "|Apartment|                        1077 GS Amsterdam (Apollobuurt)        |                €2,200 per month            | 69 m²|2 rooms|Upholstered|\n",
            "|Apartment|            1102 VM Amsterdam (Bijlmer Centrum (D,F,H))        |                €1,400 per month            | 60 m²|2 rooms|  Furnished|\n",
            "|Apartment|                            1015 PX Amsterdam (Jordaan)        |                €1,600 per month            | 40 m²|2 rooms|  Furnished|\n",
            "|Apartment|                       1076 KV Amsterdam (Stadionbuurt)        |                €3,100 per month            |120 m²|4 rooms|Upholstered|\n",
            "|Apartment|                        1093 GD Amsterdam (Dapperbuurt)        |                €1,950 per month            | 60 m²|3 rooms|  Furnished|\n",
            "|   Studio|               1105 BM Amsterdam (Amstel III/Bullewijk)        |                  €950 per month            | 39 m²| 1 room|Upholstered|\n",
            "|Apartment|                        1077 VL Amsterdam (Apollobuurt)        |                €4,200 per month            |148 m²|4 rooms|  Furnished|\n",
            "+---------+---------------------------------------------------------------+--------------------------------------------+------+-------+-----------+\n",
            "only showing top 20 rows\n",
            "\n"
          ]
        }
      ]
    },
    {
      "cell_type": "code",
      "source": [
        "df = df.withColumn(\"Location\", df.Location.substr(18,2))\n",
        "df.show(5, truncate = 200)"
      ],
      "metadata": {
        "colab": {
          "base_uri": "https://localhost:8080/"
        },
        "id": "iFuEll580HaP",
        "outputId": "1641d36a-74b7-42fc-c1f7-c0711582e155"
      },
      "execution_count": null,
      "outputs": [
        {
          "output_type": "stream",
          "name": "stdout",
          "text": [
            "+---------+--------+--------------------------------------------+------+-------+-----------+\n",
            "|    Title|Location|                                       Price|  Area|  Rooms|Description|\n",
            "+---------+--------+--------------------------------------------+------+-------+-----------+\n",
            "|Apartment|      RT|                €5,000 per month            |180 m²|4 rooms|  Furnished|\n",
            "|Apartment|      XN|                €3,400 per month            |125 m²|3 rooms|Upholstered|\n",
            "|Apartment|      MT|                €3,000 per month            |126 m²|3 rooms|Upholstered|\n",
            "|Apartment|      BS|                €3,450 per month            |150 m²|4 rooms|  Furnished|\n",
            "|Apartment|      CR|                €1,500 per month            | 50 m²|2 rooms|  Furnished|\n",
            "+---------+--------+--------------------------------------------+------+-------+-----------+\n",
            "only showing top 5 rows\n",
            "\n"
          ]
        }
      ]
    },
    {
      "cell_type": "markdown",
      "source": [
        ""
      ],
      "metadata": {
        "id": "7LOpt9L4lYLw"
      }
    },
    {
      "cell_type": "code",
      "source": [
        "from pyspark.sql.functions import when,regexp_replace\n",
        "df = df.withColumn('Area',regexp_replace(\"Area\",'m²','')\n",
        "    )\n",
        "df=df.withColumn(\"Area\",df.Area.cast(\"int\"))\n",
        "df=df.withColumnRenamed('Area','Area(m²)')\n",
        "df.show(20,truncate=100)\n",
        "df.printSchema()\n"
      ],
      "metadata": {
        "colab": {
          "base_uri": "https://localhost:8080/"
        },
        "id": "U9AMLAc6sxSa",
        "outputId": "8ddecd4b-bf95-490a-82b5-d1a2e65413c1"
      },
      "execution_count": null,
      "outputs": [
        {
          "output_type": "stream",
          "name": "stdout",
          "text": [
            "+---------+--------+--------------------------------------------+--------+-------+-----------+\n",
            "|    Title|Location|                                       Price|Area(m²)|  Rooms|Description|\n",
            "+---------+--------+--------------------------------------------+--------+-------+-----------+\n",
            "|Apartment|      RT|                €5,000 per month            |     180|4 rooms|  Furnished|\n",
            "|Apartment|      XN|                €3,400 per month            |     125|3 rooms|Upholstered|\n",
            "|Apartment|      MT|                €3,000 per month            |     126|3 rooms|Upholstered|\n",
            "|Apartment|      BS|                €3,450 per month            |     150|4 rooms|  Furnished|\n",
            "|Apartment|      CR|                €1,500 per month            |      50|2 rooms|  Furnished|\n",
            "|Apartment|      AB|                €1,450 per month            |      59|3 rooms|Upholstered|\n",
            "|Apartment|      AB|                €1,425 per month            |      53|3 rooms|Upholstered|\n",
            "|Apartment|      AB|                €1,450 per month            |      59|3 rooms|Upholstered|\n",
            "|Apartment|      AB|                €1,450 per month            |      59|3 rooms|Upholstered|\n",
            "|Apartment|      AB|                €1,420 per month            |      52|3 rooms|Upholstered|\n",
            "|Apartment|      TS|                €1,350 per month            |      60|2 rooms|Upholstered|\n",
            "|Apartment|      GD|                €1,700 per month            |      86|4 rooms|       None|\n",
            "|Apartment|      XC|                €2,150 per month            |      72|3 rooms|  Furnished|\n",
            "|Apartment|      GS|                €2,200 per month            |      69|2 rooms|Upholstered|\n",
            "|Apartment|      VM|                €1,400 per month            |      60|2 rooms|  Furnished|\n",
            "|Apartment|      PX|                €1,600 per month            |      40|2 rooms|  Furnished|\n",
            "|Apartment|      KV|                €3,100 per month            |     120|4 rooms|Upholstered|\n",
            "|Apartment|      GD|                €1,950 per month            |      60|3 rooms|  Furnished|\n",
            "|   Studio|      BM|                  €950 per month            |      39| 1 room|Upholstered|\n",
            "|Apartment|      VL|                €4,200 per month            |     148|4 rooms|  Furnished|\n",
            "+---------+--------+--------------------------------------------+--------+-------+-----------+\n",
            "only showing top 20 rows\n",
            "\n",
            "root\n",
            " |-- Title: string (nullable = true)\n",
            " |-- Location: string (nullable = true)\n",
            " |-- Price: string (nullable = true)\n",
            " |-- Area(m²): integer (nullable = true)\n",
            " |-- Rooms: string (nullable = true)\n",
            " |-- Description: string (nullable = true)\n",
            "\n"
          ]
        }
      ]
    },
    {
      "cell_type": "code",
      "source": [
        "df = df.withColumn('Price',regexp_replace(\"Price\",'€',''))\n",
        "df = df.withColumn('Price',regexp_replace(\"Price\",',',''))\n",
        "df = df.withColumn('Price',regexp_replace(\"Price\",'per',''))\n",
        "df = df.withColumn('Price',regexp_replace(\"Price\",'month',''))\n",
        "df = df.withColumn('Price',df.Price.cast(\"int\"))\n",
        "df = df.withColumnRenamed('Price','Price(€)')\n",
        "df.show(20,truncate=100)\n",
        "df.printSchema()"
      ],
      "metadata": {
        "colab": {
          "base_uri": "https://localhost:8080/"
        },
        "id": "Fz_aZH8yzWxS",
        "outputId": "c7e74e41-08d1-4d8f-87e2-8fe5873e99fe"
      },
      "execution_count": null,
      "outputs": [
        {
          "output_type": "stream",
          "name": "stdout",
          "text": [
            "+---------+--------+--------+--------+-------+-----------+\n",
            "|    Title|Location|Price(€)|Area(m²)|  Rooms|Description|\n",
            "+---------+--------+--------+--------+-------+-----------+\n",
            "|Apartment|      RT|    5000|     180|4 rooms|  Furnished|\n",
            "|Apartment|      XN|    3400|     125|3 rooms|Upholstered|\n",
            "|Apartment|      MT|    3000|     126|3 rooms|Upholstered|\n",
            "|Apartment|      BS|    3450|     150|4 rooms|  Furnished|\n",
            "|Apartment|      CR|    1500|      50|2 rooms|  Furnished|\n",
            "|Apartment|      AB|    1450|      59|3 rooms|Upholstered|\n",
            "|Apartment|      AB|    1425|      53|3 rooms|Upholstered|\n",
            "|Apartment|      AB|    1450|      59|3 rooms|Upholstered|\n",
            "|Apartment|      AB|    1450|      59|3 rooms|Upholstered|\n",
            "|Apartment|      AB|    1420|      52|3 rooms|Upholstered|\n",
            "|Apartment|      TS|    1350|      60|2 rooms|Upholstered|\n",
            "|Apartment|      GD|    1700|      86|4 rooms|       None|\n",
            "|Apartment|      XC|    2150|      72|3 rooms|  Furnished|\n",
            "|Apartment|      GS|    2200|      69|2 rooms|Upholstered|\n",
            "|Apartment|      VM|    1400|      60|2 rooms|  Furnished|\n",
            "|Apartment|      PX|    1600|      40|2 rooms|  Furnished|\n",
            "|Apartment|      KV|    3100|     120|4 rooms|Upholstered|\n",
            "|Apartment|      GD|    1950|      60|3 rooms|  Furnished|\n",
            "|   Studio|      BM|     950|      39| 1 room|Upholstered|\n",
            "|Apartment|      VL|    4200|     148|4 rooms|  Furnished|\n",
            "+---------+--------+--------+--------+-------+-----------+\n",
            "only showing top 20 rows\n",
            "\n",
            "root\n",
            " |-- Title: string (nullable = true)\n",
            " |-- Location: string (nullable = true)\n",
            " |-- Price(€): integer (nullable = true)\n",
            " |-- Area(m²): integer (nullable = true)\n",
            " |-- Rooms: string (nullable = true)\n",
            " |-- Description: string (nullable = true)\n",
            "\n"
          ]
        }
      ]
    },
    {
      "cell_type": "code",
      "source": [
        "df = df.withColumn('Rooms',regexp_replace(\"Rooms\",'rooms',''))\n",
        "df = df.withColumn('Rooms',regexp_replace(\"Rooms\",'room',''))\n",
        "df = df.withColumn('Rooms',df.Rooms.cast(\"int\"))\n",
        "df.show(20,truncate=100)\n",
        "df.printSchema()"
      ],
      "metadata": {
        "colab": {
          "base_uri": "https://localhost:8080/"
        },
        "id": "4ZL4FjIj06WW",
        "outputId": "a72c01e4-df91-4d13-e32a-820295633bbf"
      },
      "execution_count": null,
      "outputs": [
        {
          "output_type": "stream",
          "name": "stdout",
          "text": [
            "+---------+--------+--------+--------+-----+-----------+\n",
            "|    Title|Location|Price(€)|Area(m²)|Rooms|Description|\n",
            "+---------+--------+--------+--------+-----+-----------+\n",
            "|Apartment|      RT|    5000|     180|    4|  Furnished|\n",
            "|Apartment|      XN|    3400|     125|    3|Upholstered|\n",
            "|Apartment|      MT|    3000|     126|    3|Upholstered|\n",
            "|Apartment|      BS|    3450|     150|    4|  Furnished|\n",
            "|Apartment|      CR|    1500|      50|    2|  Furnished|\n",
            "|Apartment|      AB|    1450|      59|    3|Upholstered|\n",
            "|Apartment|      AB|    1425|      53|    3|Upholstered|\n",
            "|Apartment|      AB|    1450|      59|    3|Upholstered|\n",
            "|Apartment|      AB|    1450|      59|    3|Upholstered|\n",
            "|Apartment|      AB|    1420|      52|    3|Upholstered|\n",
            "|Apartment|      TS|    1350|      60|    2|Upholstered|\n",
            "|Apartment|      GD|    1700|      86|    4|       None|\n",
            "|Apartment|      XC|    2150|      72|    3|  Furnished|\n",
            "|Apartment|      GS|    2200|      69|    2|Upholstered|\n",
            "|Apartment|      VM|    1400|      60|    2|  Furnished|\n",
            "|Apartment|      PX|    1600|      40|    2|  Furnished|\n",
            "|Apartment|      KV|    3100|     120|    4|Upholstered|\n",
            "|Apartment|      GD|    1950|      60|    3|  Furnished|\n",
            "|   Studio|      BM|     950|      39|    1|Upholstered|\n",
            "|Apartment|      VL|    4200|     148|    4|  Furnished|\n",
            "+---------+--------+--------+--------+-----+-----------+\n",
            "only showing top 20 rows\n",
            "\n",
            "root\n",
            " |-- Title: string (nullable = true)\n",
            " |-- Location: string (nullable = true)\n",
            " |-- Price(€): integer (nullable = true)\n",
            " |-- Area(m²): integer (nullable = true)\n",
            " |-- Rooms: integer (nullable = true)\n",
            " |-- Description: string (nullable = true)\n",
            "\n"
          ]
        }
      ]
    },
    {
      "cell_type": "code",
      "source": [
        "from pyspark.sql import functions as F\n",
        "df.select([F.count(F.when(F.isnull(c), c)).alias(c) for c in df.columns]).show()"
      ],
      "metadata": {
        "colab": {
          "base_uri": "https://localhost:8080/"
        },
        "id": "xbvYLHKa2KoP",
        "outputId": "83962b40-3930-4743-b40b-4a3622f7b102"
      },
      "execution_count": null,
      "outputs": [
        {
          "output_type": "stream",
          "name": "stdout",
          "text": [
            "+-----+--------+--------+--------+-----+-----------+\n",
            "|Title|Location|Price(€)|Area(m²)|Rooms|Description|\n",
            "+-----+--------+--------+--------+-----+-----------+\n",
            "|    0|       0|       1|       0|    0|          0|\n",
            "+-----+--------+--------+--------+-----+-----------+\n",
            "\n"
          ]
        }
      ]
    },
    {
      "cell_type": "markdown",
      "source": [
        "The missing value of the price is because the webpage doesn't have the price"
      ],
      "metadata": {
        "id": "7gwYug0S4LOX"
      }
    },
    {
      "cell_type": "code",
      "source": [
        "df.write.csv(\"/content/drive/My Drive/Labs/house_clean\")"
      ],
      "metadata": {
        "id": "kVsH-7Hj1QGS"
      },
      "execution_count": null,
      "outputs": []
    }
  ]
}