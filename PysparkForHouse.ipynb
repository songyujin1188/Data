{
  "nbformat": 4,
  "nbformat_minor": 0,
  "metadata": {
    "colab": {
      "name": "PysparkForHouse.ipynb",
      "provenance": []
    },
    "kernelspec": {
      "name": "python3",
      "display_name": "Python 3"
    },
    "language_info": {
      "name": "python"
    }
  },
  "cells": [
    {
      "cell_type": "code",
      "execution_count": 1,
      "metadata": {
        "colab": {
          "base_uri": "https://localhost:8080/"
        },
        "id": "_r_P3kdjj7pN",
        "outputId": "7b328769-68e1-4cb0-a207-e427c3d35829"
      },
      "outputs": [
        {
          "output_type": "stream",
          "name": "stdout",
          "text": [
            "Mounted at /content/drive\n"
          ]
        }
      ],
      "source": [
        "from google.colab import drive\n",
        "drive.mount(\"/content/drive\")"
      ]
    },
    {
      "cell_type": "code",
      "source": [
        "!apt-get install openjdk-8-jdk-headless -qq > /dev/null\n",
        "!wget -q https://dlcdn.apache.org/spark/spark-3.2.1/spark-3.2.1-bin-hadoop3.2.tgz\n",
        "!tar xf spark-3.2.1-bin-hadoop3.2.tgz\n",
        "!pip install -q findspark\n",
        "import os\n",
        "os.environ[\"JAVA_HOME\"] = \"/usr/lib/jvm/java-8-openjdk-amd64\"\n",
        "os.environ[\"SPARK_HOME\"] = \"/content/spark-3.2.1-bin-hadoop3.2\"\n",
        "import findspark\n",
        "findspark.init()\n",
        "findspark.find()"
      ],
      "metadata": {
        "colab": {
          "base_uri": "https://localhost:8080/",
          "height": 35
        },
        "id": "0Ks-qI8BkKV7",
        "outputId": "f8094732-05e7-4e28-83d6-b85a08167812"
      },
      "execution_count": 2,
      "outputs": [
        {
          "output_type": "execute_result",
          "data": {
            "text/plain": [
              "'/content/spark-3.2.1-bin-hadoop3.2'"
            ],
            "application/vnd.google.colaboratory.intrinsic+json": {
              "type": "string"
            }
          },
          "metadata": {},
          "execution_count": 2
        }
      ]
    },
    {
      "cell_type": "code",
      "source": [
        "from pyspark.sql import SparkSession\n",
        "\n",
        "spark = SparkSession.builder\\\n",
        "        .master(\"local\")\\\n",
        "        .appName(\"Colab\")\\\n",
        "        .config('spark.ui.port', '4050')\\\n",
        "        .getOrCreate()"
      ],
      "metadata": {
        "id": "W318zL3okbfc"
      },
      "execution_count": 3,
      "outputs": []
    },
    {
      "cell_type": "code",
      "source": [
        "df = spark.read.csv(\"/content/drive/My Drive/house_full.csv\")\n",
        "df.printSchema()\n",
        "df.show(20,truncate = 100)\n",
        "df.count()\n",
        "from pyspark.sql import functions as F\n",
        "df.select([F.count(F.when(F.isnull(c), c)).alias(c) for c in df.columns]).show()"
      ],
      "metadata": {
        "colab": {
          "base_uri": "https://localhost:8080/"
        },
        "id": "fI00k3nJkd8z",
        "outputId": "15dec1ac-7fd2-4c8f-b448-d27c6897a358"
      },
      "execution_count": 91,
      "outputs": [
        {
          "output_type": "stream",
          "name": "stdout",
          "text": [
            "root\n",
            " |-- _c0: string (nullable = true)\n",
            " |-- _c1: string (nullable = true)\n",
            " |-- _c2: string (nullable = true)\n",
            " |-- _c3: string (nullable = true)\n",
            " |-- _c4: string (nullable = true)\n",
            " |-- _c5: string (nullable = true)\n",
            "\n",
            "+----------------------------------+---------------------------------------------------------------+--------------------------------------------+------+-------+-----------+\n",
            "|                               _c0|                                                            _c1|                                         _c2|   _c3|    _c4|        _c5|\n",
            "+----------------------------------+---------------------------------------------------------------+--------------------------------------------+------+-------+-----------+\n",
            "|                             Title|                                                       Location|                                       Price|  Area|  Rooms|   Interior|\n",
            "| Apartment Nieuwezijds Voorburgwal|            1012 RT Amsterdam (Burgwallen-Nieuwe Zijde)        |                €5,000 per month            |180 m²|4 rooms|  Furnished|\n",
            "|     Apartment Frederiksplein 40 B|                  1017 XN Amsterdam (De Weteringschans)        |                €3,400 per month            |125 m²|3 rooms|Upholstered|\n",
            "|     Apartment George Gershwinlaan|                             1082 MT Amsterdam (Zuidas)        |                €3,000 per month            |126 m²|3 rooms|Upholstered|\n",
            "|       Apartment Ruyschstraat 31 A|                       1091 BS Amsterdam (Weesperzijde)        |                €3,450 per month            |150 m²|4 rooms|  Furnished|\n",
            "|        Apartment Bezaanjachtplein|                    1034 CR Amsterdam (Banne Buiksloot)        |                €1,500 per month            | 50 m²|2 rooms|  Furnished|\n",
            "|  Apartment August Allebéplein 171|                    1062 AB Amsterdam (Overtoomse Veld)        |                €1,450 per month            | 59 m²|3 rooms|Upholstered|\n",
            "|  Apartment August Allebéplein 187|                    1062 AB Amsterdam (Overtoomse Veld)        |                €1,425 per month            | 53 m²|3 rooms|Upholstered|\n",
            "|  Apartment August Allebéplein 165|                    1062 AB Amsterdam (Overtoomse Veld)        |                €1,450 per month            | 59 m²|3 rooms|Upholstered|\n",
            "|  Apartment August Allebéplein 111|                    1062 AB Amsterdam (Overtoomse Veld)        |                €1,450 per month            | 59 m²|3 rooms|Upholstered|\n",
            "|  Apartment August Allebéplein 119|                    1062 AB Amsterdam (Overtoomse Veld)        |                €1,420 per month            | 52 m²|3 rooms|Upholstered|\n",
            "|          Apartment Krommertstraat|                        1056 TS Amsterdam (Geuzenbuurt)        |                €1,350 per month            | 60 m²|2 rooms|Upholstered|\n",
            "|   Apartment Dirk Vreekenstraat 68|              1019 GD Amsterdam (Oostelijk Havengebied)        |                €1,700 per month            | 86 m²|4 rooms|       None|\n",
            "|        Apartment Van Brakelstraat|                        1057 XC Amsterdam (Chassébuurt)        |                €2,150 per month            | 72 m²|3 rooms|  Furnished|\n",
            "|          Apartment Schubertstraat|                        1077 GS Amsterdam (Apollobuurt)        |                €2,200 per month            | 69 m²|2 rooms|Upholstered|\n",
            "|     Apartment Alfred Döblinstraat|            1102 VM Amsterdam (Bijlmer Centrum (D,F,H))        |                €1,400 per month            | 60 m²|2 rooms|  Furnished|\n",
            "|  Apartment Egelantiersstraat 85 2|                            1015 PX Amsterdam (Jordaan)        |                €1,600 per month            | 40 m²|2 rooms|  Furnished|\n",
            "|        Apartment Argonautenstraat|                       1076 KV Amsterdam (Stadionbuurt)        |                €3,100 per month            |120 m²|4 rooms|Upholstered|\n",
            "|Apartment Eerste Van Swindenstraat|                        1093 GD Amsterdam (Dapperbuurt)        |                €1,950 per month            | 60 m²|3 rooms|  Furnished|\n",
            "|         Studio Pietersbergweg 207|               1105 BM Amsterdam (Amstel III/Bullewijk)        |                  €950 per month            | 39 m²| 1 room|Upholstered|\n",
            "+----------------------------------+---------------------------------------------------------------+--------------------------------------------+------+-------+-----------+\n",
            "only showing top 20 rows\n",
            "\n",
            "+---+---+---+---+---+---+\n",
            "|_c0|_c1|_c2|_c3|_c4|_c5|\n",
            "+---+---+---+---+---+---+\n",
            "|  0|  0|  0|  0|  0|  0|\n",
            "+---+---+---+---+---+---+\n",
            "\n"
          ]
        }
      ]
    },
    {
      "cell_type": "code",
      "source": [
        "from pyspark.sql.functions import col\n",
        "df=df.filter(col(\"_c0\")!=\"Title\")\n",
        "df.show(5, truncate =100)"
      ],
      "metadata": {
        "colab": {
          "base_uri": "https://localhost:8080/"
        },
        "id": "QVPt5KXzmFAf",
        "outputId": "2284ee91-4e36-449c-9a15-ddd19fd7cc8d"
      },
      "execution_count": 92,
      "outputs": [
        {
          "output_type": "stream",
          "name": "stdout",
          "text": [
            "+---------------------------------+---------------------------------------------------------------+--------------------------------------------+------+-------+-----------+\n",
            "|                              _c0|                                                            _c1|                                         _c2|   _c3|    _c4|        _c5|\n",
            "+---------------------------------+---------------------------------------------------------------+--------------------------------------------+------+-------+-----------+\n",
            "|Apartment Nieuwezijds Voorburgwal|            1012 RT Amsterdam (Burgwallen-Nieuwe Zijde)        |                €5,000 per month            |180 m²|4 rooms|  Furnished|\n",
            "|    Apartment Frederiksplein 40 B|                  1017 XN Amsterdam (De Weteringschans)        |                €3,400 per month            |125 m²|3 rooms|Upholstered|\n",
            "|    Apartment George Gershwinlaan|                             1082 MT Amsterdam (Zuidas)        |                €3,000 per month            |126 m²|3 rooms|Upholstered|\n",
            "|      Apartment Ruyschstraat 31 A|                       1091 BS Amsterdam (Weesperzijde)        |                €3,450 per month            |150 m²|4 rooms|  Furnished|\n",
            "|       Apartment Bezaanjachtplein|                    1034 CR Amsterdam (Banne Buiksloot)        |                €1,500 per month            | 50 m²|2 rooms|  Furnished|\n",
            "+---------------------------------+---------------------------------------------------------------+--------------------------------------------+------+-------+-----------+\n",
            "only showing top 5 rows\n",
            "\n"
          ]
        }
      ]
    },
    {
      "cell_type": "code",
      "source": [
        "colomns = ['Title','Location','Price','Area','Rooms','Description']\n",
        "df = df.toDF(*colomns)\n",
        "df.show(20, truncate = 100)"
      ],
      "metadata": {
        "colab": {
          "base_uri": "https://localhost:8080/"
        },
        "id": "m00kqEfKqViQ",
        "outputId": "c83797db-5aa8-4d39-f870-bb91d95696c8"
      },
      "execution_count": 93,
      "outputs": [
        {
          "output_type": "stream",
          "name": "stdout",
          "text": [
            "+----------------------------------+---------------------------------------------------------------+--------------------------------------------+------+-------+-----------+\n",
            "|                             Title|                                                       Location|                                       Price|  Area|  Rooms|Description|\n",
            "+----------------------------------+---------------------------------------------------------------+--------------------------------------------+------+-------+-----------+\n",
            "| Apartment Nieuwezijds Voorburgwal|            1012 RT Amsterdam (Burgwallen-Nieuwe Zijde)        |                €5,000 per month            |180 m²|4 rooms|  Furnished|\n",
            "|     Apartment Frederiksplein 40 B|                  1017 XN Amsterdam (De Weteringschans)        |                €3,400 per month            |125 m²|3 rooms|Upholstered|\n",
            "|     Apartment George Gershwinlaan|                             1082 MT Amsterdam (Zuidas)        |                €3,000 per month            |126 m²|3 rooms|Upholstered|\n",
            "|       Apartment Ruyschstraat 31 A|                       1091 BS Amsterdam (Weesperzijde)        |                €3,450 per month            |150 m²|4 rooms|  Furnished|\n",
            "|        Apartment Bezaanjachtplein|                    1034 CR Amsterdam (Banne Buiksloot)        |                €1,500 per month            | 50 m²|2 rooms|  Furnished|\n",
            "|  Apartment August Allebéplein 171|                    1062 AB Amsterdam (Overtoomse Veld)        |                €1,450 per month            | 59 m²|3 rooms|Upholstered|\n",
            "|  Apartment August Allebéplein 187|                    1062 AB Amsterdam (Overtoomse Veld)        |                €1,425 per month            | 53 m²|3 rooms|Upholstered|\n",
            "|  Apartment August Allebéplein 165|                    1062 AB Amsterdam (Overtoomse Veld)        |                €1,450 per month            | 59 m²|3 rooms|Upholstered|\n",
            "|  Apartment August Allebéplein 111|                    1062 AB Amsterdam (Overtoomse Veld)        |                €1,450 per month            | 59 m²|3 rooms|Upholstered|\n",
            "|  Apartment August Allebéplein 119|                    1062 AB Amsterdam (Overtoomse Veld)        |                €1,420 per month            | 52 m²|3 rooms|Upholstered|\n",
            "|          Apartment Krommertstraat|                        1056 TS Amsterdam (Geuzenbuurt)        |                €1,350 per month            | 60 m²|2 rooms|Upholstered|\n",
            "|   Apartment Dirk Vreekenstraat 68|              1019 GD Amsterdam (Oostelijk Havengebied)        |                €1,700 per month            | 86 m²|4 rooms|       None|\n",
            "|        Apartment Van Brakelstraat|                        1057 XC Amsterdam (Chassébuurt)        |                €2,150 per month            | 72 m²|3 rooms|  Furnished|\n",
            "|          Apartment Schubertstraat|                        1077 GS Amsterdam (Apollobuurt)        |                €2,200 per month            | 69 m²|2 rooms|Upholstered|\n",
            "|     Apartment Alfred Döblinstraat|            1102 VM Amsterdam (Bijlmer Centrum (D,F,H))        |                €1,400 per month            | 60 m²|2 rooms|  Furnished|\n",
            "|  Apartment Egelantiersstraat 85 2|                            1015 PX Amsterdam (Jordaan)        |                €1,600 per month            | 40 m²|2 rooms|  Furnished|\n",
            "|        Apartment Argonautenstraat|                       1076 KV Amsterdam (Stadionbuurt)        |                €3,100 per month            |120 m²|4 rooms|Upholstered|\n",
            "|Apartment Eerste Van Swindenstraat|                        1093 GD Amsterdam (Dapperbuurt)        |                €1,950 per month            | 60 m²|3 rooms|  Furnished|\n",
            "|         Studio Pietersbergweg 207|               1105 BM Amsterdam (Amstel III/Bullewijk)        |                  €950 per month            | 39 m²| 1 room|Upholstered|\n",
            "|        Apartment Stadionkade 23 I|                        1077 VL Amsterdam (Apollobuurt)        |                €4,200 per month            |148 m²|4 rooms|  Furnished|\n",
            "+----------------------------------+---------------------------------------------------------------+--------------------------------------------+------+-------+-----------+\n",
            "only showing top 20 rows\n",
            "\n"
          ]
        }
      ]
    },
    {
      "cell_type": "code",
      "source": [
        "from pyspark.sql.functions import when,regexp_replace\n",
        "df = df.withColumn('Area',regexp_replace(\"Area\",'m²','')\n",
        "    )\n",
        "df=df.withColumn(\"Area\",df.Area.cast(\"int\"))\n",
        "df=df.withColumnRenamed('Area','Area(m²)')\n",
        "df.show(20,truncate=100)\n",
        "df.printSchema()\n"
      ],
      "metadata": {
        "colab": {
          "base_uri": "https://localhost:8080/"
        },
        "id": "U9AMLAc6sxSa",
        "outputId": "4829ec32-c39a-4da1-c6b7-254dcbfe2379"
      },
      "execution_count": 94,
      "outputs": [
        {
          "output_type": "stream",
          "name": "stdout",
          "text": [
            "+----------------------------------+---------------------------------------------------------------+--------------------------------------------+--------+-------+-----------+\n",
            "|                             Title|                                                       Location|                                       Price|Area(m²)|  Rooms|Description|\n",
            "+----------------------------------+---------------------------------------------------------------+--------------------------------------------+--------+-------+-----------+\n",
            "| Apartment Nieuwezijds Voorburgwal|            1012 RT Amsterdam (Burgwallen-Nieuwe Zijde)        |                €5,000 per month            |     180|4 rooms|  Furnished|\n",
            "|     Apartment Frederiksplein 40 B|                  1017 XN Amsterdam (De Weteringschans)        |                €3,400 per month            |     125|3 rooms|Upholstered|\n",
            "|     Apartment George Gershwinlaan|                             1082 MT Amsterdam (Zuidas)        |                €3,000 per month            |     126|3 rooms|Upholstered|\n",
            "|       Apartment Ruyschstraat 31 A|                       1091 BS Amsterdam (Weesperzijde)        |                €3,450 per month            |     150|4 rooms|  Furnished|\n",
            "|        Apartment Bezaanjachtplein|                    1034 CR Amsterdam (Banne Buiksloot)        |                €1,500 per month            |      50|2 rooms|  Furnished|\n",
            "|  Apartment August Allebéplein 171|                    1062 AB Amsterdam (Overtoomse Veld)        |                €1,450 per month            |      59|3 rooms|Upholstered|\n",
            "|  Apartment August Allebéplein 187|                    1062 AB Amsterdam (Overtoomse Veld)        |                €1,425 per month            |      53|3 rooms|Upholstered|\n",
            "|  Apartment August Allebéplein 165|                    1062 AB Amsterdam (Overtoomse Veld)        |                €1,450 per month            |      59|3 rooms|Upholstered|\n",
            "|  Apartment August Allebéplein 111|                    1062 AB Amsterdam (Overtoomse Veld)        |                €1,450 per month            |      59|3 rooms|Upholstered|\n",
            "|  Apartment August Allebéplein 119|                    1062 AB Amsterdam (Overtoomse Veld)        |                €1,420 per month            |      52|3 rooms|Upholstered|\n",
            "|          Apartment Krommertstraat|                        1056 TS Amsterdam (Geuzenbuurt)        |                €1,350 per month            |      60|2 rooms|Upholstered|\n",
            "|   Apartment Dirk Vreekenstraat 68|              1019 GD Amsterdam (Oostelijk Havengebied)        |                €1,700 per month            |      86|4 rooms|       None|\n",
            "|        Apartment Van Brakelstraat|                        1057 XC Amsterdam (Chassébuurt)        |                €2,150 per month            |      72|3 rooms|  Furnished|\n",
            "|          Apartment Schubertstraat|                        1077 GS Amsterdam (Apollobuurt)        |                €2,200 per month            |      69|2 rooms|Upholstered|\n",
            "|     Apartment Alfred Döblinstraat|            1102 VM Amsterdam (Bijlmer Centrum (D,F,H))        |                €1,400 per month            |      60|2 rooms|  Furnished|\n",
            "|  Apartment Egelantiersstraat 85 2|                            1015 PX Amsterdam (Jordaan)        |                €1,600 per month            |      40|2 rooms|  Furnished|\n",
            "|        Apartment Argonautenstraat|                       1076 KV Amsterdam (Stadionbuurt)        |                €3,100 per month            |     120|4 rooms|Upholstered|\n",
            "|Apartment Eerste Van Swindenstraat|                        1093 GD Amsterdam (Dapperbuurt)        |                €1,950 per month            |      60|3 rooms|  Furnished|\n",
            "|         Studio Pietersbergweg 207|               1105 BM Amsterdam (Amstel III/Bullewijk)        |                  €950 per month            |      39| 1 room|Upholstered|\n",
            "|        Apartment Stadionkade 23 I|                        1077 VL Amsterdam (Apollobuurt)        |                €4,200 per month            |     148|4 rooms|  Furnished|\n",
            "+----------------------------------+---------------------------------------------------------------+--------------------------------------------+--------+-------+-----------+\n",
            "only showing top 20 rows\n",
            "\n",
            "root\n",
            " |-- Title: string (nullable = true)\n",
            " |-- Location: string (nullable = true)\n",
            " |-- Price: string (nullable = true)\n",
            " |-- Area(m²): integer (nullable = true)\n",
            " |-- Rooms: string (nullable = true)\n",
            " |-- Description: string (nullable = true)\n",
            "\n"
          ]
        }
      ]
    },
    {
      "cell_type": "code",
      "source": [
        "df = df.withColumn('Price',regexp_replace(\"Price\",'€',''))\n",
        "df = df.withColumn('Price',regexp_replace(\"Price\",',',''))\n",
        "df = df.withColumn('Price',regexp_replace(\"Price\",'per',''))\n",
        "df = df.withColumn('Price',regexp_replace(\"Price\",'month',''))\n",
        "df = df.withColumn('Price',df.Price.cast(\"int\"))\n",
        "df = df.withColumnRenamed('Price','Price(€)')\n",
        "df.show(20,truncate=100)\n",
        "df.printSchema()"
      ],
      "metadata": {
        "colab": {
          "base_uri": "https://localhost:8080/"
        },
        "id": "Fz_aZH8yzWxS",
        "outputId": "6346aefc-f985-4708-8c21-03f77c35d14f"
      },
      "execution_count": 95,
      "outputs": [
        {
          "output_type": "stream",
          "name": "stdout",
          "text": [
            "+----------------------------------+---------------------------------------------------------------+--------+--------+-------+-----------+\n",
            "|                             Title|                                                       Location|Price(€)|Area(m²)|  Rooms|Description|\n",
            "+----------------------------------+---------------------------------------------------------------+--------+--------+-------+-----------+\n",
            "| Apartment Nieuwezijds Voorburgwal|            1012 RT Amsterdam (Burgwallen-Nieuwe Zijde)        |    5000|     180|4 rooms|  Furnished|\n",
            "|     Apartment Frederiksplein 40 B|                  1017 XN Amsterdam (De Weteringschans)        |    3400|     125|3 rooms|Upholstered|\n",
            "|     Apartment George Gershwinlaan|                             1082 MT Amsterdam (Zuidas)        |    3000|     126|3 rooms|Upholstered|\n",
            "|       Apartment Ruyschstraat 31 A|                       1091 BS Amsterdam (Weesperzijde)        |    3450|     150|4 rooms|  Furnished|\n",
            "|        Apartment Bezaanjachtplein|                    1034 CR Amsterdam (Banne Buiksloot)        |    1500|      50|2 rooms|  Furnished|\n",
            "|  Apartment August Allebéplein 171|                    1062 AB Amsterdam (Overtoomse Veld)        |    1450|      59|3 rooms|Upholstered|\n",
            "|  Apartment August Allebéplein 187|                    1062 AB Amsterdam (Overtoomse Veld)        |    1425|      53|3 rooms|Upholstered|\n",
            "|  Apartment August Allebéplein 165|                    1062 AB Amsterdam (Overtoomse Veld)        |    1450|      59|3 rooms|Upholstered|\n",
            "|  Apartment August Allebéplein 111|                    1062 AB Amsterdam (Overtoomse Veld)        |    1450|      59|3 rooms|Upholstered|\n",
            "|  Apartment August Allebéplein 119|                    1062 AB Amsterdam (Overtoomse Veld)        |    1420|      52|3 rooms|Upholstered|\n",
            "|          Apartment Krommertstraat|                        1056 TS Amsterdam (Geuzenbuurt)        |    1350|      60|2 rooms|Upholstered|\n",
            "|   Apartment Dirk Vreekenstraat 68|              1019 GD Amsterdam (Oostelijk Havengebied)        |    1700|      86|4 rooms|       None|\n",
            "|        Apartment Van Brakelstraat|                        1057 XC Amsterdam (Chassébuurt)        |    2150|      72|3 rooms|  Furnished|\n",
            "|          Apartment Schubertstraat|                        1077 GS Amsterdam (Apollobuurt)        |    2200|      69|2 rooms|Upholstered|\n",
            "|     Apartment Alfred Döblinstraat|            1102 VM Amsterdam (Bijlmer Centrum (D,F,H))        |    1400|      60|2 rooms|  Furnished|\n",
            "|  Apartment Egelantiersstraat 85 2|                            1015 PX Amsterdam (Jordaan)        |    1600|      40|2 rooms|  Furnished|\n",
            "|        Apartment Argonautenstraat|                       1076 KV Amsterdam (Stadionbuurt)        |    3100|     120|4 rooms|Upholstered|\n",
            "|Apartment Eerste Van Swindenstraat|                        1093 GD Amsterdam (Dapperbuurt)        |    1950|      60|3 rooms|  Furnished|\n",
            "|         Studio Pietersbergweg 207|               1105 BM Amsterdam (Amstel III/Bullewijk)        |     950|      39| 1 room|Upholstered|\n",
            "|        Apartment Stadionkade 23 I|                        1077 VL Amsterdam (Apollobuurt)        |    4200|     148|4 rooms|  Furnished|\n",
            "+----------------------------------+---------------------------------------------------------------+--------+--------+-------+-----------+\n",
            "only showing top 20 rows\n",
            "\n",
            "root\n",
            " |-- Title: string (nullable = true)\n",
            " |-- Location: string (nullable = true)\n",
            " |-- Price(€): integer (nullable = true)\n",
            " |-- Area(m²): integer (nullable = true)\n",
            " |-- Rooms: string (nullable = true)\n",
            " |-- Description: string (nullable = true)\n",
            "\n"
          ]
        }
      ]
    },
    {
      "cell_type": "code",
      "source": [
        "df = df.withColumn('Rooms',regexp_replace(\"Rooms\",'rooms',''))\n",
        "df = df.withColumn('Rooms',regexp_replace(\"Rooms\",'room',''))\n",
        "df = df.withColumn('Rooms',df.Rooms.cast(\"int\"))\n",
        "df.show(20,truncate=100)\n",
        "df.printSchema()"
      ],
      "metadata": {
        "colab": {
          "base_uri": "https://localhost:8080/"
        },
        "id": "4ZL4FjIj06WW",
        "outputId": "180c7d64-ea10-4cfd-a2b2-6c389ac8d2da"
      },
      "execution_count": 96,
      "outputs": [
        {
          "output_type": "stream",
          "name": "stdout",
          "text": [
            "+----------------------------------+---------------------------------------------------------------+--------+--------+-----+-----------+\n",
            "|                             Title|                                                       Location|Price(€)|Area(m²)|Rooms|Description|\n",
            "+----------------------------------+---------------------------------------------------------------+--------+--------+-----+-----------+\n",
            "| Apartment Nieuwezijds Voorburgwal|            1012 RT Amsterdam (Burgwallen-Nieuwe Zijde)        |    5000|     180|    4|  Furnished|\n",
            "|     Apartment Frederiksplein 40 B|                  1017 XN Amsterdam (De Weteringschans)        |    3400|     125|    3|Upholstered|\n",
            "|     Apartment George Gershwinlaan|                             1082 MT Amsterdam (Zuidas)        |    3000|     126|    3|Upholstered|\n",
            "|       Apartment Ruyschstraat 31 A|                       1091 BS Amsterdam (Weesperzijde)        |    3450|     150|    4|  Furnished|\n",
            "|        Apartment Bezaanjachtplein|                    1034 CR Amsterdam (Banne Buiksloot)        |    1500|      50|    2|  Furnished|\n",
            "|  Apartment August Allebéplein 171|                    1062 AB Amsterdam (Overtoomse Veld)        |    1450|      59|    3|Upholstered|\n",
            "|  Apartment August Allebéplein 187|                    1062 AB Amsterdam (Overtoomse Veld)        |    1425|      53|    3|Upholstered|\n",
            "|  Apartment August Allebéplein 165|                    1062 AB Amsterdam (Overtoomse Veld)        |    1450|      59|    3|Upholstered|\n",
            "|  Apartment August Allebéplein 111|                    1062 AB Amsterdam (Overtoomse Veld)        |    1450|      59|    3|Upholstered|\n",
            "|  Apartment August Allebéplein 119|                    1062 AB Amsterdam (Overtoomse Veld)        |    1420|      52|    3|Upholstered|\n",
            "|          Apartment Krommertstraat|                        1056 TS Amsterdam (Geuzenbuurt)        |    1350|      60|    2|Upholstered|\n",
            "|   Apartment Dirk Vreekenstraat 68|              1019 GD Amsterdam (Oostelijk Havengebied)        |    1700|      86|    4|       None|\n",
            "|        Apartment Van Brakelstraat|                        1057 XC Amsterdam (Chassébuurt)        |    2150|      72|    3|  Furnished|\n",
            "|          Apartment Schubertstraat|                        1077 GS Amsterdam (Apollobuurt)        |    2200|      69|    2|Upholstered|\n",
            "|     Apartment Alfred Döblinstraat|            1102 VM Amsterdam (Bijlmer Centrum (D,F,H))        |    1400|      60|    2|  Furnished|\n",
            "|  Apartment Egelantiersstraat 85 2|                            1015 PX Amsterdam (Jordaan)        |    1600|      40|    2|  Furnished|\n",
            "|        Apartment Argonautenstraat|                       1076 KV Amsterdam (Stadionbuurt)        |    3100|     120|    4|Upholstered|\n",
            "|Apartment Eerste Van Swindenstraat|                        1093 GD Amsterdam (Dapperbuurt)        |    1950|      60|    3|  Furnished|\n",
            "|         Studio Pietersbergweg 207|               1105 BM Amsterdam (Amstel III/Bullewijk)        |     950|      39|    1|Upholstered|\n",
            "|        Apartment Stadionkade 23 I|                        1077 VL Amsterdam (Apollobuurt)        |    4200|     148|    4|  Furnished|\n",
            "+----------------------------------+---------------------------------------------------------------+--------+--------+-----+-----------+\n",
            "only showing top 20 rows\n",
            "\n",
            "root\n",
            " |-- Title: string (nullable = true)\n",
            " |-- Location: string (nullable = true)\n",
            " |-- Price(€): integer (nullable = true)\n",
            " |-- Area(m²): integer (nullable = true)\n",
            " |-- Rooms: integer (nullable = true)\n",
            " |-- Description: string (nullable = true)\n",
            "\n"
          ]
        }
      ]
    },
    {
      "cell_type": "code",
      "source": [
        "from pyspark.sql import functions as F\n",
        "df.select([F.count(F.when(F.isnull(c), c)).alias(c) for c in df.columns]).show()"
      ],
      "metadata": {
        "colab": {
          "base_uri": "https://localhost:8080/"
        },
        "id": "xbvYLHKa2KoP",
        "outputId": "943b3184-699d-4273-dbc7-bd73fe34cea5"
      },
      "execution_count": 97,
      "outputs": [
        {
          "output_type": "stream",
          "name": "stdout",
          "text": [
            "+-----+--------+--------+--------+-----+-----------+\n",
            "|Title|Location|Price(€)|Area(m²)|Rooms|Description|\n",
            "+-----+--------+--------+--------+-----+-----------+\n",
            "|    0|       0|       1|       0|    0|          0|\n",
            "+-----+--------+--------+--------+-----+-----------+\n",
            "\n"
          ]
        }
      ]
    },
    {
      "cell_type": "markdown",
      "source": [
        "The missing value of the price is because the webpage doesn't have the price"
      ],
      "metadata": {
        "id": "7gwYug0S4LOX"
      }
    },
    {
      "cell_type": "code",
      "source": [
        "df.write.csv(\"/content/drive/My Drive/Labs/house_clean\")"
      ],
      "metadata": {
        "id": "kVsH-7Hj1QGS"
      },
      "execution_count": 99,
      "outputs": []
    }
  ]
}