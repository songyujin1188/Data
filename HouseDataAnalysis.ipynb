{
  "nbformat": 4,
  "nbformat_minor": 0,
  "metadata": {
    "colab": {
      "name": "HouseDataAnalysis.ipynb",
      "provenance": []
    },
    "kernelspec": {
      "name": "python3",
      "display_name": "Python 3"
    },
    "language_info": {
      "name": "python"
    }
  },
  "cells": [
    {
      "cell_type": "code",
      "execution_count": null,
      "metadata": {
        "colab": {
          "base_uri": "https://localhost:8080/"
        },
        "id": "J8v309oIiihO",
        "outputId": "816363ec-f06f-4f93-deb4-03456245c5f4"
      },
      "outputs": [
        {
          "output_type": "stream",
          "name": "stdout",
          "text": [
            "Mounted at /content/drive\n"
          ]
        }
      ],
      "source": [
        "from google.colab import drive\n",
        "drive.mount(\"/content/drive\")"
      ]
    },
    {
      "cell_type": "code",
      "source": [
        "import pandas as pd\n",
        "import seaborn as sns"
      ],
      "metadata": {
        "id": "ok1hXqdGjPS7"
      },
      "execution_count": 124,
      "outputs": []
    },
    {
      "cell_type": "code",
      "source": [
        "df = pd.read_csv('/content/drive/My Drive/Labs/house_clean/house_clean.csv')\n",
        "print(df.shape)"
      ],
      "metadata": {
        "colab": {
          "base_uri": "https://localhost:8080/"
        },
        "id": "1znYkjQujiwu",
        "outputId": "eba9cc77-d9d8-4df6-dcbe-71865f5dbcc1"
      },
      "execution_count": null,
      "outputs": [
        {
          "output_type": "stream",
          "name": "stdout",
          "text": [
            "(735, 6)\n"
          ]
        }
      ]
    },
    {
      "cell_type": "code",
      "source": [
        "df.head()\n",
        "df.isnull().sum()"
      ],
      "metadata": {
        "colab": {
          "base_uri": "https://localhost:8080/"
        },
        "id": "KneC5HX7kRjR",
        "outputId": "33367929-9eb6-4b24-b241-ce034bf2c590"
      },
      "execution_count": null,
      "outputs": [
        {
          "output_type": "execute_result",
          "data": {
            "text/plain": [
              "Apartment    0\n",
              "RT           5\n",
              "5000         1\n",
              "180          0\n",
              "4            0\n",
              "Furnished    0\n",
              "dtype: int64"
            ]
          },
          "metadata": {},
          "execution_count": 95
        }
      ]
    },
    {
      "cell_type": "code",
      "source": [
        "df = df.dropna(axis=0)\n",
        "df.isnull().sum()"
      ],
      "metadata": {
        "colab": {
          "base_uri": "https://localhost:8080/"
        },
        "id": "GvGdjp5gmJOf",
        "outputId": "12676cf2-d5f6-40ef-bff1-949dc016b879"
      },
      "execution_count": null,
      "outputs": [
        {
          "output_type": "execute_result",
          "data": {
            "text/plain": [
              "Apartment    0\n",
              "RT           0\n",
              "5000         0\n",
              "180          0\n",
              "4            0\n",
              "Furnished    0\n",
              "dtype: int64"
            ]
          },
          "metadata": {},
          "execution_count": 96
        }
      ]
    },
    {
      "cell_type": "code",
      "source": [
        "df.columns=['Title','Location','Price','Area','Rooms','Description']\n",
        "print(df)\n",
        "df.head()"
      ],
      "metadata": {
        "colab": {
          "base_uri": "https://localhost:8080/",
          "height": 456
        },
        "id": "96A5S46um2Li",
        "outputId": "ae915b84-d7d6-4f75-a340-ae9404f3586f"
      },
      "execution_count": null,
      "outputs": [
        {
          "output_type": "stream",
          "name": "stdout",
          "text": [
            "         Title Location   Price  Area  Rooms               Description\n",
            "0    Apartment       XN  3400.0   125      3               Upholstered\n",
            "1    Apartment       MT  3000.0   126      3               Upholstered\n",
            "2    Apartment       BS  3450.0   150      4                 Furnished\n",
            "3    Apartment       CR  1500.0    50      2                 Furnished\n",
            "4    Apartment       AB  1450.0    59      3               Upholstered\n",
            "..         ...      ...     ...   ...    ...                       ...\n",
            "730  Apartment       LA  2500.0    81      2  Upholstered or furnished\n",
            "731  Apartment       HV  7000.0   262      7                 Furnished\n",
            "732      House       GD  8750.0   324      7                 Furnished\n",
            "733  Apartment       JV  2750.0   130      3               Upholstered\n",
            "734  Apartment       EH  3400.0   110      3               Upholstered\n",
            "\n",
            "[729 rows x 6 columns]\n"
          ]
        },
        {
          "output_type": "execute_result",
          "data": {
            "text/plain": [
              "       Title Location   Price  Area  Rooms  Description\n",
              "0  Apartment       XN  3400.0   125      3  Upholstered\n",
              "1  Apartment       MT  3000.0   126      3  Upholstered\n",
              "2  Apartment       BS  3450.0   150      4    Furnished\n",
              "3  Apartment       CR  1500.0    50      2    Furnished\n",
              "4  Apartment       AB  1450.0    59      3  Upholstered"
            ],
            "text/html": [
              "\n",
              "  <div id=\"df-dea9920c-eb31-4748-bef7-563e86edf948\">\n",
              "    <div class=\"colab-df-container\">\n",
              "      <div>\n",
              "<style scoped>\n",
              "    .dataframe tbody tr th:only-of-type {\n",
              "        vertical-align: middle;\n",
              "    }\n",
              "\n",
              "    .dataframe tbody tr th {\n",
              "        vertical-align: top;\n",
              "    }\n",
              "\n",
              "    .dataframe thead th {\n",
              "        text-align: right;\n",
              "    }\n",
              "</style>\n",
              "<table border=\"1\" class=\"dataframe\">\n",
              "  <thead>\n",
              "    <tr style=\"text-align: right;\">\n",
              "      <th></th>\n",
              "      <th>Title</th>\n",
              "      <th>Location</th>\n",
              "      <th>Price</th>\n",
              "      <th>Area</th>\n",
              "      <th>Rooms</th>\n",
              "      <th>Description</th>\n",
              "    </tr>\n",
              "  </thead>\n",
              "  <tbody>\n",
              "    <tr>\n",
              "      <th>0</th>\n",
              "      <td>Apartment</td>\n",
              "      <td>XN</td>\n",
              "      <td>3400.0</td>\n",
              "      <td>125</td>\n",
              "      <td>3</td>\n",
              "      <td>Upholstered</td>\n",
              "    </tr>\n",
              "    <tr>\n",
              "      <th>1</th>\n",
              "      <td>Apartment</td>\n",
              "      <td>MT</td>\n",
              "      <td>3000.0</td>\n",
              "      <td>126</td>\n",
              "      <td>3</td>\n",
              "      <td>Upholstered</td>\n",
              "    </tr>\n",
              "    <tr>\n",
              "      <th>2</th>\n",
              "      <td>Apartment</td>\n",
              "      <td>BS</td>\n",
              "      <td>3450.0</td>\n",
              "      <td>150</td>\n",
              "      <td>4</td>\n",
              "      <td>Furnished</td>\n",
              "    </tr>\n",
              "    <tr>\n",
              "      <th>3</th>\n",
              "      <td>Apartment</td>\n",
              "      <td>CR</td>\n",
              "      <td>1500.0</td>\n",
              "      <td>50</td>\n",
              "      <td>2</td>\n",
              "      <td>Furnished</td>\n",
              "    </tr>\n",
              "    <tr>\n",
              "      <th>4</th>\n",
              "      <td>Apartment</td>\n",
              "      <td>AB</td>\n",
              "      <td>1450.0</td>\n",
              "      <td>59</td>\n",
              "      <td>3</td>\n",
              "      <td>Upholstered</td>\n",
              "    </tr>\n",
              "  </tbody>\n",
              "</table>\n",
              "</div>\n",
              "      <button class=\"colab-df-convert\" onclick=\"convertToInteractive('df-dea9920c-eb31-4748-bef7-563e86edf948')\"\n",
              "              title=\"Convert this dataframe to an interactive table.\"\n",
              "              style=\"display:none;\">\n",
              "        \n",
              "  <svg xmlns=\"http://www.w3.org/2000/svg\" height=\"24px\"viewBox=\"0 0 24 24\"\n",
              "       width=\"24px\">\n",
              "    <path d=\"M0 0h24v24H0V0z\" fill=\"none\"/>\n",
              "    <path d=\"M18.56 5.44l.94 2.06.94-2.06 2.06-.94-2.06-.94-.94-2.06-.94 2.06-2.06.94zm-11 1L8.5 8.5l.94-2.06 2.06-.94-2.06-.94L8.5 2.5l-.94 2.06-2.06.94zm10 10l.94 2.06.94-2.06 2.06-.94-2.06-.94-.94-2.06-.94 2.06-2.06.94z\"/><path d=\"M17.41 7.96l-1.37-1.37c-.4-.4-.92-.59-1.43-.59-.52 0-1.04.2-1.43.59L10.3 9.45l-7.72 7.72c-.78.78-.78 2.05 0 2.83L4 21.41c.39.39.9.59 1.41.59.51 0 1.02-.2 1.41-.59l7.78-7.78 2.81-2.81c.8-.78.8-2.07 0-2.86zM5.41 20L4 18.59l7.72-7.72 1.47 1.35L5.41 20z\"/>\n",
              "  </svg>\n",
              "      </button>\n",
              "      \n",
              "  <style>\n",
              "    .colab-df-container {\n",
              "      display:flex;\n",
              "      flex-wrap:wrap;\n",
              "      gap: 12px;\n",
              "    }\n",
              "\n",
              "    .colab-df-convert {\n",
              "      background-color: #E8F0FE;\n",
              "      border: none;\n",
              "      border-radius: 50%;\n",
              "      cursor: pointer;\n",
              "      display: none;\n",
              "      fill: #1967D2;\n",
              "      height: 32px;\n",
              "      padding: 0 0 0 0;\n",
              "      width: 32px;\n",
              "    }\n",
              "\n",
              "    .colab-df-convert:hover {\n",
              "      background-color: #E2EBFA;\n",
              "      box-shadow: 0px 1px 2px rgba(60, 64, 67, 0.3), 0px 1px 3px 1px rgba(60, 64, 67, 0.15);\n",
              "      fill: #174EA6;\n",
              "    }\n",
              "\n",
              "    [theme=dark] .colab-df-convert {\n",
              "      background-color: #3B4455;\n",
              "      fill: #D2E3FC;\n",
              "    }\n",
              "\n",
              "    [theme=dark] .colab-df-convert:hover {\n",
              "      background-color: #434B5C;\n",
              "      box-shadow: 0px 1px 3px 1px rgba(0, 0, 0, 0.15);\n",
              "      filter: drop-shadow(0px 1px 2px rgba(0, 0, 0, 0.3));\n",
              "      fill: #FFFFFF;\n",
              "    }\n",
              "  </style>\n",
              "\n",
              "      <script>\n",
              "        const buttonEl =\n",
              "          document.querySelector('#df-dea9920c-eb31-4748-bef7-563e86edf948 button.colab-df-convert');\n",
              "        buttonEl.style.display =\n",
              "          google.colab.kernel.accessAllowed ? 'block' : 'none';\n",
              "\n",
              "        async function convertToInteractive(key) {\n",
              "          const element = document.querySelector('#df-dea9920c-eb31-4748-bef7-563e86edf948');\n",
              "          const dataTable =\n",
              "            await google.colab.kernel.invokeFunction('convertToInteractive',\n",
              "                                                     [key], {});\n",
              "          if (!dataTable) return;\n",
              "\n",
              "          const docLinkHtml = 'Like what you see? Visit the ' +\n",
              "            '<a target=\"_blank\" href=https://colab.research.google.com/notebooks/data_table.ipynb>data table notebook</a>'\n",
              "            + ' to learn more about interactive tables.';\n",
              "          element.innerHTML = '';\n",
              "          dataTable['output_type'] = 'display_data';\n",
              "          await google.colab.output.renderOutput(dataTable, element);\n",
              "          const docLink = document.createElement('div');\n",
              "          docLink.innerHTML = docLinkHtml;\n",
              "          element.appendChild(docLink);\n",
              "        }\n",
              "      </script>\n",
              "    </div>\n",
              "  </div>\n",
              "  "
            ]
          },
          "metadata": {},
          "execution_count": 117
        }
      ]
    },
    {
      "cell_type": "code",
      "source": [
        "\n",
        "cvar_list = ['Title','Description','Location']\n",
        "nvar_list = ['Price','Area','Rooms']\n",
        "\n",
        "df1 = df.copy()\n",
        "df1[nvar_list] = (df[nvar_list] - df[nvar_list].mean())/df[nvar_list].std()\n",
        "df2 = df1.copy()\n",
        "df2[cvar_list]=df1[cvar_list].astype('category')\n",
        "df2[nvar_list]=df1[nvar_list].astype('float64')\n",
        "\n",
        "df3= df2.copy()\n",
        "df3 = pd.get_dummies(df2, prefix_sep='_')\n",
        "rdummies = ['Title_Apartment','Description_Furnished','Location_XN']\n",
        "df4=df3.copy\n",
        "df4=df3.drop(columns=rdummies)\n",
        "print(df4.columns.values)\n",
        "print(df4)"
      ],
      "metadata": {
        "colab": {
          "base_uri": "https://localhost:8080/"
        },
        "id": "K4-nYeqtnlKg",
        "outputId": "cc9126bb-89a5-4471-e6ae-e871b294a549"
      },
      "execution_count": null,
      "outputs": [
        {
          "output_type": "stream",
          "name": "stdout",
          "text": [
            "['Price' 'Area' 'Rooms' 'Title_House' 'Title_Room' 'Title_Studio'\n",
            " 'Location_AA' 'Location_AB' 'Location_AC' 'Location_AD' 'Location_AE'\n",
            " 'Location_AG' 'Location_AH' 'Location_AK' 'Location_AL' 'Location_AN'\n",
            " 'Location_AP' 'Location_AR' 'Location_AS' 'Location_AT' 'Location_AV'\n",
            " 'Location_AX' 'Location_AZ' 'Location_BA' 'Location_BB' 'Location_BC'\n",
            " 'Location_BD' 'Location_BE' 'Location_BG' 'Location_BH' 'Location_BJ'\n",
            " 'Location_BK' 'Location_BL' 'Location_BM' 'Location_BN' 'Location_BP'\n",
            " 'Location_BS' 'Location_BT' 'Location_BV' 'Location_BX' 'Location_BZ'\n",
            " 'Location_CC' 'Location_CD' 'Location_CE' 'Location_CG' 'Location_CJ'\n",
            " 'Location_CK' 'Location_CL' 'Location_CN' 'Location_CP' 'Location_CR'\n",
            " 'Location_CS' 'Location_CV' 'Location_CW' 'Location_CX' 'Location_CZ'\n",
            " 'Location_DA' 'Location_DB' 'Location_DC' 'Location_DE' 'Location_DH'\n",
            " 'Location_DJ' 'Location_DL' 'Location_DM' 'Location_DN' 'Location_DR'\n",
            " 'Location_DS' 'Location_DT' 'Location_DV' 'Location_DX' 'Location_DZ'\n",
            " 'Location_EA' 'Location_EB' 'Location_EC' 'Location_ED' 'Location_EE'\n",
            " 'Location_EG' 'Location_EH' 'Location_EJ' 'Location_EL' 'Location_EM'\n",
            " 'Location_EN' 'Location_EP' 'Location_ER' 'Location_ES' 'Location_ET'\n",
            " 'Location_EW' 'Location_EZ' 'Location_GA' 'Location_GB' 'Location_GC'\n",
            " 'Location_GD' 'Location_GE' 'Location_GG' 'Location_GJ' 'Location_GK'\n",
            " 'Location_GM' 'Location_GN' 'Location_GP' 'Location_GR' 'Location_GS'\n",
            " 'Location_GT' 'Location_GV' 'Location_GW' 'Location_GX' 'Location_HA'\n",
            " 'Location_HB' 'Location_HC' 'Location_HD' 'Location_HE' 'Location_HG'\n",
            " 'Location_HH' 'Location_HK' 'Location_HL' 'Location_HM' 'Location_HN'\n",
            " 'Location_HR' 'Location_HS' 'Location_HT' 'Location_HV' 'Location_HW'\n",
            " 'Location_HX' 'Location_HZ' 'Location_JA' 'Location_JB' 'Location_JC'\n",
            " 'Location_JD' 'Location_JG' 'Location_JH' 'Location_JJ' 'Location_JK'\n",
            " 'Location_JM' 'Location_JN' 'Location_JP' 'Location_JR' 'Location_JS'\n",
            " 'Location_JT' 'Location_JV' 'Location_JW' 'Location_JZ' 'Location_KA'\n",
            " 'Location_KB' 'Location_KC' 'Location_KD' 'Location_KE' 'Location_KG'\n",
            " 'Location_KH' 'Location_KJ' 'Location_KK' 'Location_KL' 'Location_KM'\n",
            " 'Location_KP' 'Location_KR' 'Location_KS' 'Location_KT' 'Location_KV'\n",
            " 'Location_KX' 'Location_KZ' 'Location_LA' 'Location_LB' 'Location_LC'\n",
            " 'Location_LD' 'Location_LE' 'Location_LG' 'Location_LH' 'Location_LJ'\n",
            " 'Location_LK' 'Location_LL' 'Location_LM' 'Location_LP' 'Location_LR'\n",
            " 'Location_LS' 'Location_LT' 'Location_LV' 'Location_LX' 'Location_LZ'\n",
            " 'Location_MA' 'Location_MB' 'Location_MD' 'Location_ME' 'Location_MG'\n",
            " 'Location_MH' 'Location_MJ' 'Location_MK' 'Location_ML' 'Location_MM'\n",
            " 'Location_MN' 'Location_MP' 'Location_MR' 'Location_MS' 'Location_MT'\n",
            " 'Location_MV' 'Location_MX' 'Location_NB' 'Location_NC' 'Location_NE'\n",
            " 'Location_NH' 'Location_NK' 'Location_NL' 'Location_NM' 'Location_NN'\n",
            " 'Location_NS' 'Location_NV' 'Location_NZ' 'Location_PA' 'Location_PB'\n",
            " 'Location_PC' 'Location_PD' 'Location_PE' 'Location_PG' 'Location_PH'\n",
            " 'Location_PK' 'Location_PL' 'Location_PP' 'Location_PT' 'Location_PV'\n",
            " 'Location_PW' 'Location_PX' 'Location_PZ' 'Location_RA' 'Location_RC'\n",
            " 'Location_RD' 'Location_RE' 'Location_RH' 'Location_RL' 'Location_RM'\n",
            " 'Location_RN' 'Location_RR' 'Location_RT' 'Location_RV' 'Location_RW'\n",
            " 'Location_RZ' 'Location_SB' 'Location_SC' 'Location_SE' 'Location_SH'\n",
            " 'Location_SJ' 'Location_SL' 'Location_SM' 'Location_SN' 'Location_SP'\n",
            " 'Location_SR' 'Location_ST' 'Location_SW' 'Location_SX' 'Location_SZ'\n",
            " 'Location_TA' 'Location_TB' 'Location_TD' 'Location_TE' 'Location_TH'\n",
            " 'Location_TK' 'Location_TL' 'Location_TM' 'Location_TN' 'Location_TP'\n",
            " 'Location_TR' 'Location_TS' 'Location_TT' 'Location_TV' 'Location_TW'\n",
            " 'Location_TX' 'Location_TZ' 'Location_VA' 'Location_VB' 'Location_VC'\n",
            " 'Location_VE' 'Location_VG' 'Location_VH' 'Location_VL' 'Location_VM'\n",
            " 'Location_VN' 'Location_VP' 'Location_VR' 'Location_VS' 'Location_VT'\n",
            " 'Location_VW' 'Location_VX' 'Location_VZ' 'Location_WB' 'Location_WG'\n",
            " 'Location_WH' 'Location_WJ' 'Location_WK' 'Location_WN' 'Location_WP'\n",
            " 'Location_WR' 'Location_WV' 'Location_WW' 'Location_WZ' 'Location_XA'\n",
            " 'Location_XB' 'Location_XC' 'Location_XE' 'Location_XH' 'Location_XJ'\n",
            " 'Location_XK' 'Location_XL' 'Location_XP' 'Location_XR' 'Location_XS'\n",
            " 'Location_XV' 'Location_XX' 'Location_XZ' 'Location_ZA' 'Location_ZE'\n",
            " 'Location_ZG' 'Location_ZH' 'Location_ZK' 'Location_ZL' 'Location_ZM'\n",
            " 'Location_ZN' 'Location_ZP' 'Location_ZS' 'Description_None'\n",
            " 'Description_Shell' 'Description_Upholstered'\n",
            " 'Description_Upholstered or furnished']\n",
            "        Price      Area     Rooms  Title_House  Title_Room  Title_Studio  \\\n",
            "0    0.613875  0.612025 -0.146801            0           0             0   \n",
            "1    0.314856  0.633084 -0.146801            0           0             0   \n",
            "2    0.651252  1.138512  0.651842            0           0             0   \n",
            "3   -0.806465 -0.967436 -0.945444            0           0             0   \n",
            "4   -0.843843 -0.777901 -0.146801            0           0             0   \n",
            "..        ...       ...       ...          ...         ...           ...   \n",
            "730 -0.058918 -0.314592 -0.945444            0           0             0   \n",
            "731  3.305047  3.497173  3.047770            0           0             0   \n",
            "732  4.613255  4.802861  3.047770            1           0             0   \n",
            "733  0.127969  0.717322 -0.146801            0           0             0   \n",
            "734  0.613875  0.296133 -0.146801            0           0             0   \n",
            "\n",
            "     Location_AA  Location_AB  Location_AC  Location_AD  ...  Location_ZK  \\\n",
            "0              0            0            0            0  ...            0   \n",
            "1              0            0            0            0  ...            0   \n",
            "2              0            0            0            0  ...            0   \n",
            "3              0            0            0            0  ...            0   \n",
            "4              0            1            0            0  ...            0   \n",
            "..           ...          ...          ...          ...  ...          ...   \n",
            "730            0            0            0            0  ...            0   \n",
            "731            0            0            0            0  ...            0   \n",
            "732            0            0            0            0  ...            0   \n",
            "733            0            0            0            0  ...            0   \n",
            "734            0            0            0            0  ...            0   \n",
            "\n",
            "     Location_ZL  Location_ZM  Location_ZN  Location_ZP  Location_ZS  \\\n",
            "0              0            0            0            0            0   \n",
            "1              0            0            0            0            0   \n",
            "2              0            0            0            0            0   \n",
            "3              0            0            0            0            0   \n",
            "4              0            0            0            0            0   \n",
            "..           ...          ...          ...          ...          ...   \n",
            "730            0            0            0            0            0   \n",
            "731            0            0            0            0            0   \n",
            "732            0            0            0            0            0   \n",
            "733            0            0            0            0            0   \n",
            "734            0            0            0            0            0   \n",
            "\n",
            "     Description_None  Description_Shell  Description_Upholstered  \\\n",
            "0                   0                  0                        1   \n",
            "1                   0                  0                        1   \n",
            "2                   0                  0                        0   \n",
            "3                   0                  0                        0   \n",
            "4                   0                  0                        1   \n",
            "..                ...                ...                      ...   \n",
            "730                 0                  0                        0   \n",
            "731                 0                  0                        0   \n",
            "732                 0                  0                        0   \n",
            "733                 0                  0                        1   \n",
            "734                 0                  0                        1   \n",
            "\n",
            "     Description_Upholstered or furnished  \n",
            "0                                       0  \n",
            "1                                       0  \n",
            "2                                       0  \n",
            "3                                       0  \n",
            "4                                       0  \n",
            "..                                    ...  \n",
            "730                                     1  \n",
            "731                                     0  \n",
            "732                                     0  \n",
            "733                                     0  \n",
            "734                                     0  \n",
            "\n",
            "[729 rows x 318 columns]\n"
          ]
        }
      ]
    },
    {
      "cell_type": "code",
      "source": [
        "from sklearn.model_selection import train_test_split\n",
        "X = df4.drop('Price',axis=1)\n",
        "\n",
        "y = df4['Price']\n",
        "X_train, X_test, y_train, y_test = train_test_split(X, y, test_size=0.2, random_state=123)\n",
        "print(X)"
      ],
      "metadata": {
        "colab": {
          "base_uri": "https://localhost:8080/"
        },
        "id": "qgGp6LgP3eWG",
        "outputId": "3ca54c33-ba73-4293-bbd9-b6ea411c5073"
      },
      "execution_count": 138,
      "outputs": [
        {
          "output_type": "stream",
          "name": "stdout",
          "text": [
            "         Area     Rooms  Title_House  Title_Room  Title_Studio  Location_AA  \\\n",
            "0    0.612025 -0.146801            0           0             0            0   \n",
            "1    0.633084 -0.146801            0           0             0            0   \n",
            "2    1.138512  0.651842            0           0             0            0   \n",
            "3   -0.967436 -0.945444            0           0             0            0   \n",
            "4   -0.777901 -0.146801            0           0             0            0   \n",
            "..        ...       ...          ...         ...           ...          ...   \n",
            "730 -0.314592 -0.945444            0           0             0            0   \n",
            "731  3.497173  3.047770            0           0             0            0   \n",
            "732  4.802861  3.047770            1           0             0            0   \n",
            "733  0.717322 -0.146801            0           0             0            0   \n",
            "734  0.296133 -0.146801            0           0             0            0   \n",
            "\n",
            "     Location_AB  Location_AC  Location_AD  Location_AE  ...  Location_ZK  \\\n",
            "0              0            0            0            0  ...            0   \n",
            "1              0            0            0            0  ...            0   \n",
            "2              0            0            0            0  ...            0   \n",
            "3              0            0            0            0  ...            0   \n",
            "4              1            0            0            0  ...            0   \n",
            "..           ...          ...          ...          ...  ...          ...   \n",
            "730            0            0            0            0  ...            0   \n",
            "731            0            0            0            0  ...            0   \n",
            "732            0            0            0            0  ...            0   \n",
            "733            0            0            0            0  ...            0   \n",
            "734            0            0            0            0  ...            0   \n",
            "\n",
            "     Location_ZL  Location_ZM  Location_ZN  Location_ZP  Location_ZS  \\\n",
            "0              0            0            0            0            0   \n",
            "1              0            0            0            0            0   \n",
            "2              0            0            0            0            0   \n",
            "3              0            0            0            0            0   \n",
            "4              0            0            0            0            0   \n",
            "..           ...          ...          ...          ...          ...   \n",
            "730            0            0            0            0            0   \n",
            "731            0            0            0            0            0   \n",
            "732            0            0            0            0            0   \n",
            "733            0            0            0            0            0   \n",
            "734            0            0            0            0            0   \n",
            "\n",
            "     Description_None  Description_Shell  Description_Upholstered  \\\n",
            "0                   0                  0                        1   \n",
            "1                   0                  0                        1   \n",
            "2                   0                  0                        0   \n",
            "3                   0                  0                        0   \n",
            "4                   0                  0                        1   \n",
            "..                ...                ...                      ...   \n",
            "730                 0                  0                        0   \n",
            "731                 0                  0                        0   \n",
            "732                 0                  0                        0   \n",
            "733                 0                  0                        1   \n",
            "734                 0                  0                        1   \n",
            "\n",
            "     Description_Upholstered or furnished  \n",
            "0                                       0  \n",
            "1                                       0  \n",
            "2                                       0  \n",
            "3                                       0  \n",
            "4                                       0  \n",
            "..                                    ...  \n",
            "730                                     1  \n",
            "731                                     0  \n",
            "732                                     0  \n",
            "733                                     0  \n",
            "734                                     0  \n",
            "\n",
            "[729 rows x 317 columns]\n"
          ]
        }
      ]
    },
    {
      "cell_type": "code",
      "source": [
        "X_test.shape"
      ],
      "metadata": {
        "colab": {
          "base_uri": "https://localhost:8080/"
        },
        "id": "YAfUGQKm4buy",
        "outputId": "fb547208-8463-430c-9e18-640f6bf20e6d"
      },
      "execution_count": 139,
      "outputs": [
        {
          "output_type": "execute_result",
          "data": {
            "text/plain": [
              "(146, 317)"
            ]
          },
          "metadata": {},
          "execution_count": 139
        }
      ]
    },
    {
      "cell_type": "code",
      "source": [
        "from sklearn.neighbors import KNeighborsRegressor\n",
        "model = KNeighborsRegressor()\n",
        "model.fit(X_train, y_train)"
      ],
      "metadata": {
        "colab": {
          "base_uri": "https://localhost:8080/"
        },
        "id": "nbsSDv7A4eWA",
        "outputId": "2c27e836-bffc-4e68-ab9b-5b55cd91041c"
      },
      "execution_count": 149,
      "outputs": [
        {
          "output_type": "execute_result",
          "data": {
            "text/plain": [
              "KNeighborsRegressor()"
            ]
          },
          "metadata": {},
          "execution_count": 149
        }
      ]
    },
    {
      "cell_type": "code",
      "source": [
        "from sklearn.metrics import mean_squared_error\n",
        "from sklearn.metrics import mean_absolute_error\n",
        "mse = mean_squared_error(y_train, model.predict(X_train))\n",
        "mae = mean_absolute_error(y_train, model.predict(X_train))\n",
        "from math import sqrt\n",
        "print(\"mse = \",mse,\" & mae = \",mae,\" & rmse = \", sqrt(mse))"
      ],
      "metadata": {
        "id": "urnzzkON7gzz",
        "outputId": "9f2d9fc8-a230-44d2-d0fc-5f8cd3399a65",
        "colab": {
          "base_uri": "https://localhost:8080/"
        }
      },
      "execution_count": 150,
      "outputs": [
        {
          "output_type": "stream",
          "name": "stdout",
          "text": [
            "mse =  0.21007355553273221  & mae =  0.2848861818924589  & rmse =  0.45833781813497804\n"
          ]
        }
      ]
    },
    {
      "cell_type": "code",
      "source": [
        "test_mse = mean_squared_error(y_test, model.predict(X_test))\n",
        "test_mae = mean_absolute_error(y_test, model.predict(X_test))\n",
        "print(\"mse = \",test_mse,\" & mae = \",test_mae,\" & rmse = \", sqrt(test_mse))"
      ],
      "metadata": {
        "colab": {
          "base_uri": "https://localhost:8080/"
        },
        "id": "h57LvNzpZ3Dg",
        "outputId": "ae4b4e88-55b5-4876-82f4-7ad813e83bf6"
      },
      "execution_count": 151,
      "outputs": [
        {
          "output_type": "stream",
          "name": "stdout",
          "text": [
            "mse =  0.17804567624194145  & mae =  0.30681096838170197  & rmse =  0.4219545902605415\n"
          ]
        }
      ]
    }
  ]
}